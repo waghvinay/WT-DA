{
 "cells": [
  {
   "cell_type": "markdown",
   "metadata": {},
   "source": [
    "##### Q.2) Write a Python program to perform the following tasks :\n",
    "a. Apply OneHot coding on Country column.\n",
    "\n",
    "b. Apply Label encoding on purchased column\n",
    "(Data.csv have two categorical column the country column, and the purchased column)."
   ]
  },
  {
   "cell_type": "code",
   "execution_count": 3,
   "metadata": {},
   "outputs": [
    {
     "ename": "ModuleNotFoundError",
     "evalue": "No module named 'pandas'",
     "output_type": "error",
     "traceback": [
      "\u001b[1;31m---------------------------------------------------------------------------\u001b[0m",
      "\u001b[1;31mModuleNotFoundError\u001b[0m                       Traceback (most recent call last)",
      "\u001b[1;32mc:\\Users\\haris\\Desktop\\CS-Practical-Solutions\\Web_&_DS\\practicals\\slip5\\DS\\Q2.ipynb Cell 2\u001b[0m line \u001b[0;36m1\n\u001b[1;32m----> <a href='vscode-notebook-cell:/c%3A/Users/haris/Desktop/CS-Practical-Solutions/Web_%26_DS/practicals/slip5/DS/Q2.ipynb#W0sZmlsZQ%3D%3D?line=0'>1</a>\u001b[0m \u001b[39mimport\u001b[39;00m \u001b[39mpandas\u001b[39;00m \u001b[39mas\u001b[39;00m \u001b[39mpd\u001b[39;00m \n\u001b[0;32m      <a href='vscode-notebook-cell:/c%3A/Users/haris/Desktop/CS-Practical-Solutions/Web_%26_DS/practicals/slip5/DS/Q2.ipynb#W0sZmlsZQ%3D%3D?line=1'>2</a>\u001b[0m \u001b[39mfrom\u001b[39;00m \u001b[39msklearn\u001b[39;00m\u001b[39m.\u001b[39;00m\u001b[39mpreprocessing\u001b[39;00m \u001b[39mimport\u001b[39;00m OneHotEncoder\n\u001b[0;32m      <a href='vscode-notebook-cell:/c%3A/Users/haris/Desktop/CS-Practical-Solutions/Web_%26_DS/practicals/slip5/DS/Q2.ipynb#W0sZmlsZQ%3D%3D?line=2'>3</a>\u001b[0m df \u001b[39m=\u001b[39m pd\u001b[39m.\u001b[39mread_csv(\u001b[39m\"\u001b[39m\u001b[39m./Sales_Data.csv\u001b[39m\u001b[39m\"\u001b[39m , encoding\u001b[39m=\u001b[39m\u001b[39m\"\u001b[39m\u001b[39mlatin1\u001b[39m\u001b[39m\"\u001b[39m)\n",
      "\u001b[1;31mModuleNotFoundError\u001b[0m: No module named 'pandas'"
     ]
    }
   ],
   "source": [
    "import pandas as pd \n",
    "from sklearn.preprocessing import OneHotEncoder\n",
    "df = pd.read_csv(\"./Sales_Data.csv\" , encoding=\"latin1\")\n",
    "\n",
    "encoder = OneHotEncoder(handle_unknown=\"ignore\")\n",
    "\n",
    "encoder_df = pd.DataFrame(encoder.fit_transform(df[['COUNTRY']]).toarray())\n",
    "\n",
    "final_df = df.join(encoder_df)\n",
    "\n",
    "final_df\n",
    "\n",
    "from sklearn.preprocessing import LabelEncoder \n",
    "le = LabelEncoder() \n",
    "\n",
    "df['SALES'] = le.fit_transform(df['SALES'])\n",
    "\n",
    "df\n",
    "\n",
    "# df.head()"
   ]
  }
 ],
 "metadata": {
  "kernelspec": {
   "display_name": "Python 3",
   "language": "python",
   "name": "python3"
  },
  "language_info": {
   "codemirror_mode": {
    "name": "ipython",
    "version": 3
   },
   "file_extension": ".py",
   "mimetype": "text/x-python",
   "name": "python",
   "nbconvert_exporter": "python",
   "pygments_lexer": "ipython3",
   "version": "3.11.1"
  }
 },
 "nbformat": 4,
 "nbformat_minor": 2
}
