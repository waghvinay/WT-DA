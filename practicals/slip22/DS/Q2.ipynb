{
 "cells": [
  {
   "cell_type": "markdown",
   "metadata": {},
   "source": [
    "##### Q.2) Dataset Name: winequality-red.csv \n",
    "\n",
    "Write a program in python to perform following tasks\n",
    "\n",
    "a. Rescaling: Normalised the dataset using MinMaxScaler class\n",
    "\n",
    "b. Standardizing Data (transform them into a standard Gaussian distribution with a mean of 0 and\n",
    "\n",
    "a standard deviation of 1)\n",
    "\n",
    "c. Normalizing Data ( rescale each observation to a length of 1 (a unit norm). For this, use the\n",
    "Normalizer class.) "
   ]
  },
  {
   "cell_type": "code",
   "execution_count": null,
   "metadata": {},
   "outputs": [],
   "source": [
    "import numpy as np\n",
    "import pandas as pd \n",
    "from sklearn.preprocessing import MinMaxScaler, StandardScaler, Normalizer\n",
    "\n",
    "# Generate some sample data\n",
    "data = pd.read_csv('./wineQualityReds.csv')\n",
    "\n",
    "# a. Rescaling using MinMaxScaler\n",
    "scaler_minmax = MinMaxScaler()\n",
    "rescaled_data = scaler_minmax.fit_transform(data)\n",
    "\n",
    "print(\"Rescaled Data:\")\n",
    "print(rescaled_data)\n",
    "\n",
    "# b. Standardizing Data using StandardScaler\n",
    "scaler_standard = StandardScaler()\n",
    "standardized_data = scaler_standard.fit_transform(data)\n",
    "\n",
    "print(\"\\nStandardized Data:\")\n",
    "print(standardized_data)\n",
    "\n",
    "# c. Normalizing Data using Normalizer\n",
    "normalizer = Normalizer()\n",
    "normalized_data = normalizer.fit_transform(data)\n",
    "\n",
    "print(\"\\nNormalized Data:\")\n",
    "print(normalized_data)"
   ]
  }
 ],
 "metadata": {
  "kernelspec": {
   "display_name": "Python 3",
   "language": "python",
   "name": "python3"
  },
  "language_info": {
   "codemirror_mode": {
    "name": "ipython",
    "version": 3
   },
   "file_extension": ".py",
   "mimetype": "text/x-python",
   "name": "python",
   "nbconvert_exporter": "python",
   "pygments_lexer": "ipython3",
   "version": "3.10.11"
  }
 },
 "nbformat": 4,
 "nbformat_minor": 2
}
