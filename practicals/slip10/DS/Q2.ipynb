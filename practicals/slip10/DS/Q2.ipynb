{
 "cells": [
  {
   "cell_type": "markdown",
   "metadata": {},
   "source": [
    "##### Q.2 A) Write a python program to Display column-wise mean, and median for SOCRHeightWeight dataset."
   ]
  },
  {
   "cell_type": "code",
   "execution_count": 6,
   "metadata": {},
   "outputs": [
    {
     "name": "stdout",
     "output_type": "stream",
     "text": [
      "Mean of Index column  12500.5\n",
      "Mean of Height column  67.99311359679999\n",
      "Mean of Weight column  127.07942116080001\n"
     ]
    },
    {
     "data": {
      "text/plain": [
       "Index(['Index', 'Height', 'Weight'], dtype='object')"
      ]
     },
     "execution_count": 6,
     "metadata": {},
     "output_type": "execute_result"
    }
   ],
   "source": [
    "import pandas as pd \n",
    "\n",
    "df = pd.read_csv(\"./HeightWeight.csv\")\n",
    "\n",
    "\n",
    "print(\"Mean of Index column \" , df['Index'].mean())\n",
    "print(\"Mean of Height column \" , df['Height'].mean())\n",
    "print(\"Mean of Weight column \" , df['Weight'].mean())\n"
   ]
  },
  {
   "cell_type": "markdown",
   "metadata": {},
   "source": [
    "##### Q.2 B) Write a python program to compute sum of Manhattan distance between all pairs of points. "
   ]
  },
  {
   "cell_type": "code",
   "execution_count": 22,
   "metadata": {},
   "outputs": [
    {
     "name": "stdout",
     "output_type": "stream",
     "text": [
      "Manhattan distance is : 12\n",
      "12\n"
     ]
    }
   ],
   "source": [
    "x = [1,2,3,4,5]\n",
    "y = [4,5,1,6,7]\n",
    "\n",
    "sum =0\n",
    "for x1,y1 in zip(x,y):\n",
    "    sum+= abs(x1-y1) \n",
    "\n",
    "print(\"Manhattan distance is :\" ,sum)\n"
   ]
  },
  {
   "cell_type": "code",
   "execution_count": null,
   "metadata": {},
   "outputs": [],
   "source": [
    "from scipy.spatial.distance import cityblock\n",
    "print(cityblock(x, y))"
   ]
  },
  {
   "cell_type": "code",
   "execution_count": null,
   "metadata": {},
   "outputs": [],
   "source": [
    "def manhattan_distance(point1, point2):\n",
    "    distance = 0\n",
    "    for x1, x2 in zip(point1, point2):\n",
    "        difference = x2 - x1\n",
    "        absolute_difference = abs(difference)\n",
    "        distance += absolute_difference\n",
    "\n",
    "    return distance\n",
    "\n",
    "x = [1,2,3,4,5]\n",
    "y = [4,5,1,6,7]\n",
    "\n",
    "print(manhattan_distance(x,y))"
   ]
  },
  {
   "cell_type": "code",
   "execution_count": 24,
   "metadata": {},
   "outputs": [
    {
     "name": "stdout",
     "output_type": "stream",
     "text": [
      "48\n"
     ]
    }
   ],
   "source": [
    "def distancesum (x, y, n):\n",
    "    sum = 0\n",
    "     \n",
    "    for i in range(n):\n",
    "        for j in range(i+1,n):\n",
    "            sum += (abs(x[i] - x[j]) +\n",
    "                        abs(y[i] - y[j]))\n",
    "     \n",
    "    return sum\n",
    " \n",
    "x = [1,2,3,4,5]\n",
    "y = [4,5,1,6,7]\n",
    "\n",
    "n = len(x)\n",
    "print(distancesum(x, y, n) )"
   ]
  }
 ],
 "metadata": {
  "kernelspec": {
   "display_name": "Python 3",
   "language": "python",
   "name": "python3"
  },
  "language_info": {
   "codemirror_mode": {
    "name": "ipython",
    "version": 3
   },
   "file_extension": ".py",
   "mimetype": "text/x-python",
   "name": "python",
   "nbconvert_exporter": "python",
   "pygments_lexer": "ipython3",
   "version": "3.10.11"
  }
 },
 "nbformat": 4,
 "nbformat_minor": 2
}
